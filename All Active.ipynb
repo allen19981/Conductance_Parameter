{
 "cells": [
  {
   "cell_type": "code",
   "execution_count": 1,
   "metadata": {},
   "outputs": [],
   "source": [
    "import pandas as pd\n",
    "import matplotlib.pyplot as plt\n",
    "import seaborn as sns\n",
    "import json\n",
    "import math\n",
    "\n",
    "from allensdk.core.cell_types_cache import CellTypesCache\n",
    "from allensdk.api.queries.cell_types_api import CellTypesApi"
   ]
  },
  {
   "cell_type": "code",
   "execution_count": 4,
   "metadata": {},
   "outputs": [],
   "source": [
    "cells = pd.read_csv(\"C:/Users/Allose/Notebook/cell_types_specimen_details.csv\", index_col=0)"
   ]
  },
  {
   "cell_type": "code",
   "execution_count": 5,
   "metadata": {},
   "outputs": [],
   "source": [
    "all_active_cells = cells[cells.m__biophys_perisomatic == 1]\n",
    "all_active_cells = \n",
    "\n",
    "all_active_cre_count = pd.DataFrame()\n",
    "cut = pd.concat([all_active_cells[['line_name']], all_active_cells[['m__biophys_perisomatic']]], axis = 1)\n",
    "\n",
    "for parameter in parameters:\n",
    "    new_cut = pd.concat([cut, all_features_cell_type[[parameter]]], axis = 1)\n",
    "    count = new_cut.set_index([\"cell_type\", 'dendrite_type']).count(level=\"cell_type\")\n",
    "    cre_line_parameter_count = pd.concat([cre_line_parameter_count, count[[parameter]]], axis = 1)"
   ]
  },
  {
   "cell_type": "code",
   "execution_count": null,
   "metadata": {},
   "outputs": [],
   "source": [
    "statsmodels.stats.weightstats.DescrStatsW.corrcoef\n",
    "import numpy as np\n",
    "\n",
    "import statsmodels.api as sm\n",
    "\n",
    "import statsmodels.formula.api as smf"
   ]
  }
 ],
 "metadata": {
  "kernelspec": {
   "display_name": "Python 3",
   "language": "python",
   "name": "python3"
  },
  "language_info": {
   "codemirror_mode": {
    "name": "ipython",
    "version": 3
   },
   "file_extension": ".py",
   "mimetype": "text/x-python",
   "name": "python",
   "nbconvert_exporter": "python",
   "pygments_lexer": "ipython3",
   "version": "3.7.1"
  }
 },
 "nbformat": 4,
 "nbformat_minor": 2
}
